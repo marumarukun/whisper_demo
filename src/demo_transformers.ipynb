{
 "cells": [
  {
   "cell_type": "code",
   "execution_count": 1,
   "metadata": {},
   "outputs": [
    {
     "name": "stderr",
     "output_type": "stream",
     "text": [
      "/Users/marumarukun/Documents/my_study/whisper/.venv/lib/python3.12/site-packages/tqdm/auto.py:21: TqdmWarning: IProgress not found. Please update jupyter and ipywidgets. See https://ipywidgets.readthedocs.io/en/stable/user_install.html\n",
      "  from .autonotebook import tqdm as notebook_tqdm\n"
     ]
    }
   ],
   "source": [
    "import subprocess\n",
    "\n",
    "import torch\n",
    "from transformers import AutoModelForSpeechSeq2Seq, AutoProcessor, pipeline\n"
   ]
  },
  {
   "cell_type": "code",
   "execution_count": 2,
   "metadata": {},
   "outputs": [
    {
     "name": "stdout",
     "output_type": "stream",
     "text": [
      "[youtube] Extracting URL: https://youtu.be/wxvxP8yHEPg\n",
      "[youtube] wxvxP8yHEPg: Downloading webpage\n",
      "[youtube] wxvxP8yHEPg: Downloading ios player API JSON\n",
      "[youtube] wxvxP8yHEPg: Downloading web creator player API JSON\n",
      "[youtube] wxvxP8yHEPg: Downloading m3u8 information\n",
      "[info] wxvxP8yHEPg: Downloading 1 format(s): 251\n",
      "[download] wxvxP8yHEPg.mp3 has already been downloaded\n",
      "[ExtractAudio] Not converting audio wxvxP8yHEPg.mp3; file is already in target format mp3\n"
     ]
    }
   ],
   "source": [
    "YOUTUBE_ID = \"wxvxP8yHEPg\"  # https://www.youtube.com/watch?v=wxvxP8yHEPg の末尾のID\n",
    "AUDIO_FILE_NAME = f\"{YOUTUBE_ID}.mp3\"\n",
    "\n",
    "\n",
    "def dl_yt(yt_url):\n",
    "    subprocess.run(f\"yt-dlp -x --audio-format mp3 -o {AUDIO_FILE_NAME} {yt_url}\", shell=True, check=False)\n",
    "\n",
    "\n",
    "dl_yt(f\"https://youtu.be/{YOUTUBE_ID}\")\n"
   ]
  },
  {
   "cell_type": "code",
   "execution_count": 3,
   "metadata": {},
   "outputs": [],
   "source": [
    "device = \"cuda:0\" if torch.cuda.is_available() else \"cpu\"\n",
    "torch_dtype = torch.float16 if torch.cuda.is_available() else torch.float32\n"
   ]
  },
  {
   "cell_type": "code",
   "execution_count": 4,
   "metadata": {},
   "outputs": [],
   "source": [
    "model_id = \"openai/whisper-large-v3-turbo\"\n",
    "\n",
    "model = AutoModelForSpeechSeq2Seq.from_pretrained(\n",
    "    model_id, torch_dtype=torch_dtype, low_cpu_mem_usage=True, use_safetensors=True\n",
    ")\n",
    "model.to(device)\n",
    "\n",
    "processor = AutoProcessor.from_pretrained(model_id)\n"
   ]
  },
  {
   "cell_type": "code",
   "execution_count": 5,
   "metadata": {},
   "outputs": [],
   "source": [
    "pipe = pipeline(\n",
    "    \"automatic-speech-recognition\",\n",
    "    model=model,\n",
    "    tokenizer=processor.tokenizer,\n",
    "    feature_extractor=processor.feature_extractor,\n",
    "    torch_dtype=torch_dtype,\n",
    "    device=device,\n",
    ")\n"
   ]
  },
  {
   "cell_type": "code",
   "execution_count": 10,
   "metadata": {},
   "outputs": [
    {
     "name": "stderr",
     "output_type": "stream",
     "text": [
      "/Users/marumarukun/Documents/my_study/whisper/.venv/lib/python3.12/site-packages/transformers/models/whisper/generation_whisper.py:496: FutureWarning: The input name `inputs` is deprecated. Please make sure to use `input_features` instead.\n",
      "  warnings.warn(\n",
      "WhisperModel is using WhisperSdpaAttention, but `torch.nn.functional.scaled_dot_product_attention` does not support `output_attentions=True` or `layer_head_mask` not None. Falling back to the manual attention implementation, but specifying the manual implementation will be required from Transformers version v5.0.0 onwards. This warning can be removed using the argument `attn_implementation=\"eager\"` when loading the model.\n",
      "From v4.47 onwards, when a model cache is to be returned, `generate` will return a `Cache` instance instead by default (as opposed to the legacy tuple of tuples format). If you want to keep returning the legacy format, please set `return_legacy_cache=True`.\n"
     ]
    }
   ],
   "source": [
    "result = pipe(AUDIO_FILE_NAME, return_timestamps=\"word\")\n"
   ]
  },
  {
   "cell_type": "code",
   "execution_count": 12,
   "metadata": {},
   "outputs": [
    {
     "name": "stdout",
     "output_type": "stream",
     "text": [
      "[3.12s - 3.12s] ん\n",
      "[3.12s - 6.06s] 監督よりファンの皆様へお挨拶申し上げます\n",
      "[6.06s - 8.18s]  新庄監督お願いいたします\n",
      "[12.78s - 13.26s] なんと\n",
      "[13.26s - 15.12s]  皆さんのおかげで\n",
      "[15.94s - 18.56s] 2017年7年ぶりに\n",
      "[18.56s - 22.76s]  200人200万人突破できることができました\n",
      "[23.58s - 24.00s] ありがとうございます\n",
      "[31.48s - 34.04s] 3年間成長した選手たちに\n",
      "[34.78s - 36.98s] 目一杯の拍手をお願いします\n",
      "[46.66s - 49.30s] 皆さんに一つお願いがあります\n",
      "[50.92s - 52.48s] 来年\n",
      "[54.78s - 57.14s] レイエスとマルチネス\n",
      "[58.24s - 61.60s] ファイターズのユニフォームを着てほしくないですか\n",
      "[66.58s - 70.08s] よそのチームのユニフォームは似合わないですよね\n",
      "[73.84s - 77.34s] 皆さんどこも行かないで運動を始めてください\n",
      "[82.76s - 87.40s] 僕たちは日本一しか今考えていません\n",
      "[89.36s - 92.56s] ドラマ大公開ここからが一番楽しいです\n",
      "[93.40s - 95.18s] 皆さん僕についてきてください\n",
      "[96.78s - 97.88s] 1年間ありがとうございました\n",
      "[103.08s - 103.52s] ありがとうございました\n",
      "[137.28s - 137.28s] ご視聴ありがとうございました\n"
     ]
    }
   ],
   "source": [
    "for chunk in result[\"chunks\"]:\n",
    "    print(f\"[{chunk['timestamp'][0]:.2f}s - {chunk['timestamp'][1]:.2f}s] {chunk['text']}\")\n"
   ]
  },
  {
   "cell_type": "code",
   "execution_count": 23,
   "metadata": {},
   "outputs": [
    {
     "name": "stderr",
     "output_type": "stream",
     "text": [
      "/Users/marumarukun/Documents/my_study/whisper/.venv/lib/python3.12/site-packages/transformers/models/whisper/generation_whisper.py:496: FutureWarning: The input name `inputs` is deprecated. Please make sure to use `input_features` instead.\n",
      "  warnings.warn(\n"
     ]
    }
   ],
   "source": [
    "# 複数の音声ファイルを処理する場合は、リストを渡す\n",
    "results = pipe([\"../data/input/g_02.mp3\", \"../data/input/g_22.mp3\"], return_timestamps=True, batch_size=2)\n"
   ]
  },
  {
   "cell_type": "code",
   "execution_count": 30,
   "metadata": {},
   "outputs": [
    {
     "name": "stdout",
     "output_type": "stream",
     "text": [
      "[0.00s - 8.34s] F博士が発見開発した乳酸菌 ヨーグルトや甘いドリンクなんかに入っているものと同じなんですか?\n",
      "[11.06s - 13.00s] 何ですか?この写真は\n",
      "[13.00s - 16.94s] いろんな乳酸菌の働きを比較した表ですね\n",
      "[16.94s - 21.70s] うわー、白玉菌っていてほしくないやつですね\n",
      "\n",
      "\n",
      "[0.00s - 10.84s] 血管収縮には血管閉合筋細胞内のカルシウム濃度が関与しており 血管閉合筋細胞内へのカルシウム流入をブロックすれば血管収縮を抑制できます\n",
      "[10.84s - 20.62s] しかし近年カルシウム流入とは独立した経路としてロックが見出され 血管収縮に深く関与していることが明らかになりました\n",
      "\n",
      "\n"
     ]
    }
   ],
   "source": [
    "for result in results:\n",
    "    for chunk in result[\"chunks\"]:\n",
    "        print(f\"[{chunk['timestamp'][0]:.2f}s - {chunk['timestamp'][1]:.2f}s] {chunk['text']}\")\n",
    "    print(\"\\n\")\n"
   ]
  }
 ],
 "metadata": {
  "kernelspec": {
   "display_name": ".venv",
   "language": "python",
   "name": "python3"
  },
  "language_info": {
   "codemirror_mode": {
    "name": "ipython",
    "version": 3
   },
   "file_extension": ".py",
   "mimetype": "text/x-python",
   "name": "python",
   "nbconvert_exporter": "python",
   "pygments_lexer": "ipython3",
   "version": "3.12.2"
  }
 },
 "nbformat": 4,
 "nbformat_minor": 2
}
