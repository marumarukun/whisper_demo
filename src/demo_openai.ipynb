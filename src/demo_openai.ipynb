{
 "cells": [
  {
   "cell_type": "code",
   "execution_count": 2,
   "metadata": {},
   "outputs": [],
   "source": [
    "import subprocess\n",
    "\n",
    "import whisper\n",
    "\n",
    "model = whisper.load_model(\"large-v3-turbo\")\n"
   ]
  },
  {
   "cell_type": "code",
   "execution_count": 3,
   "metadata": {},
   "outputs": [
    {
     "name": "stdout",
     "output_type": "stream",
     "text": [
      "[youtube] Extracting URL: https://youtu.be/wxvxP8yHEPg\n",
      "[youtube] wxvxP8yHEPg: Downloading webpage\n",
      "[youtube] wxvxP8yHEPg: Downloading ios player API JSON\n",
      "[youtube] wxvxP8yHEPg: Downloading web creator player API JSON\n",
      "[youtube] wxvxP8yHEPg: Downloading player 96d06116\n",
      "[youtube] wxvxP8yHEPg: Downloading m3u8 information\n",
      "[info] wxvxP8yHEPg: Downloading 1 format(s): 251\n",
      "[download] wxvxP8yHEPg.mp3 has already been downloaded\n",
      "[ExtractAudio] Not converting audio wxvxP8yHEPg.mp3; file is already in target format mp3\n"
     ]
    }
   ],
   "source": [
    "YOUTUBE_ID = \"wxvxP8yHEPg\"  # https://www.youtube.com/watch?v=wxvxP8yHEPg の末尾のID\n",
    "AUDIO_FILE_NAME = f\"{YOUTUBE_ID}.mp3\"\n",
    "\n",
    "\n",
    "def dl_yt(yt_url):\n",
    "    subprocess.run(f\"yt-dlp -x --audio-format mp3 -o {AUDIO_FILE_NAME} {yt_url}\", shell=True, check=False)\n",
    "\n",
    "\n",
    "dl_yt(f\"https://youtu.be/{YOUTUBE_ID}\")\n"
   ]
  },
  {
   "cell_type": "code",
   "execution_count": 6,
   "metadata": {},
   "outputs": [
    {
     "name": "stderr",
     "output_type": "stream",
     "text": [
      "/Users/marumarukun/Documents/my_study/whisper/.venv/lib/python3.12/site-packages/whisper/transcribe.py:126: UserWarning: FP16 is not supported on CPU; using FP32 instead\n",
      "  warnings.warn(\"FP16 is not supported on CPU; using FP32 instead\")\n"
     ]
    }
   ],
   "source": [
    "result = model.transcribe(AUDIO_FILE_NAME)\n"
   ]
  },
  {
   "cell_type": "code",
   "execution_count": 7,
   "metadata": {},
   "outputs": [
    {
     "name": "stdout",
     "output_type": "stream",
     "text": [
      "[0.00s - 0.50s] ん\n",
      "[0.50s - 8.24s] 監督よりファンの皆様へお挨拶申し上げます 新庄監督お願いいたします\n",
      "[8.24s - 15.80s] なんと 皆さんのおかげで\n",
      "[15.80s - 22.78s] 2017年7年ぶりに 200人200万人突破できることができました\n",
      "[22.78s - 24.02s] ありがとうございます\n",
      "[30.00s - 39.18s] 3年間成長した戦士たちに めいっぱいの拍手をお願いします\n",
      "[46.64s - 51.22s] 皆さんに一つお願いがあります\n",
      "[51.84s - 54.38s] 来年\n",
      "[54.72s - 58.18s] レイエスト マルチネス\n",
      "[58.18s - 65.18s] ファイターズのユニフォームを着てほしくないですか\n",
      "[66.64s - 72.20s] よそのチームのユニフォームは似合わないですよね\n",
      "[72.20s - 77.38s] 皆さん どこも行かないで運動を始めてください\n",
      "[77.38s - 83.50s] 僕たちは\n",
      "[83.50s - 87.48s] 日本一しか今考えていません\n",
      "[87.48s - 92.70s] ドラマ 大航海 ここからが一番楽しいです\n",
      "[92.70s - 95.20s] 皆さん 僕についてきてください\n",
      "[95.20s - 98.20s] 1年間ありがとうございました\n",
      "[98.20s - 102.20s] ありがとうございました\n",
      "[102.20s - 103.66s] ありがとうございました\n",
      "[103.66s - 104.66s] ありがとうございました\n",
      "[104.66s - 106.66s] ありがとうございました\n",
      "[106.66s - 110.66s] ありがとうございました\n",
      "[110.66s - 140.64s] ご視聴ありがとうございました\n"
     ]
    }
   ],
   "source": [
    "for segment in result[\"segments\"]:\n",
    "    print(f\"[{segment['start']:.2f}s - {segment['end']:.2f}s] {segment['text']}\")\n"
   ]
  }
 ],
 "metadata": {
  "kernelspec": {
   "display_name": ".venv",
   "language": "python",
   "name": "python3"
  },
  "language_info": {
   "codemirror_mode": {
    "name": "ipython",
    "version": 3
   },
   "file_extension": ".py",
   "mimetype": "text/x-python",
   "name": "python",
   "nbconvert_exporter": "python",
   "pygments_lexer": "ipython3",
   "version": "3.12.2"
  }
 },
 "nbformat": 4,
 "nbformat_minor": 2
}
